{
 "cells": [
  {
   "cell_type": "code",
   "execution_count": 44,
   "metadata": {},
   "outputs": [],
   "source": [
    "import os\n",
    "import csv"
   ]
  },
  {
   "cell_type": "code",
   "execution_count": 45,
   "metadata": {},
   "outputs": [],
   "source": [
    "# initialize variables\n",
    "countMonth = 0\n",
    "sumPnL = 0\n",
    "\n",
    "# initialize lists\n",
    "listPnL = []"
   ]
  },
  {
   "cell_type": "code",
   "execution_count": 46,
   "metadata": {},
   "outputs": [
    {
     "name": "stdout",
     "output_type": "stream",
     "text": [
      "../Resources/budget_data.csv\n"
     ]
    }
   ],
   "source": [
    "csvPath = os.path.join(\"..\",\"Resources\",\"budget_data.csv\")\n",
    "print(csvPath)"
   ]
  },
  {
   "cell_type": "code",
   "execution_count": 47,
   "metadata": {},
   "outputs": [
    {
     "name": "stdout",
     "output_type": "stream",
     "text": [
      "Header = ['Date', 'Profit/Losses']\n",
      "<_csv.reader object at 0x1069fb250>\n",
      "[]\n",
      "{}\n",
      "['Jan-2010', 'Feb-2010', 'Mar-2010', 'Apr-2010', 'May-2010', 'Jun-2010', 'Jul-2010', 'Aug-2010', 'Sep-2010', 'Oct-2010', 'Nov-2010', 'Dec-2010', 'Jan-2011', 'Feb-2011', 'Mar-2011', 'Apr-2011', 'May-2011', 'Jun-2011', 'Jul-2011', 'Aug-2011', 'Sep-2011', 'Oct-2011', 'Nov-2011', 'Dec-2011', 'Jan-2012', 'Feb-2012', 'Mar-2012', 'Apr-2012', 'May-2012', 'Jun-2012', 'Jul-2012', 'Aug-2012', 'Sep-2012', 'Oct-2012', 'Nov-2012', 'Dec-2012', 'Jan-2013', 'Feb-2013', 'Mar-2013', 'Apr-2013', 'May-2013', 'Jun-2013', 'Jul-2013', 'Aug-2013', 'Sep-2013', 'Oct-2013', 'Nov-2013', 'Dec-2013', 'Jan-2014', 'Feb-2014', 'Mar-2014', 'Apr-2014', 'May-2014', 'Jun-2014', 'Jul-2014', 'Aug-2014', 'Sep-2014', 'Oct-2014', 'Nov-2014', 'Dec-2014', 'Jan-2015', 'Feb-2015', 'Mar-2015', 'Apr-2015', 'May-2015', 'Jun-2015', 'Jul-2015', 'Aug-2015', 'Sep-2015', 'Oct-2015', 'Nov-2015', 'Dec-2015', 'Jan-2016', 'Feb-2016', 'Mar-2016', 'Apr-2016', 'May-2016', 'Jun-2016', 'Jul-2016', 'Aug-2016', 'Sep-2016', 'Oct-2016', 'Nov-2016', 'Dec-2016', 'Jan-2017', 'Feb-2017']\n",
      "['867884', '984655', '322013', '-69417', '310503', '522857', '1033096', '604885', '-216386', '477532', '893810', '-80353', '779806', '-335203', '697845', '793163', '485070', '584122', '62729', '668179', '899906', '834719', '132003', '309978', '-755566', '1170593', '252788', '1151518', '817256', '570757', '506702', '-1022534', '475062', '779976', '144175', '542494', '359333', '321469', '67780', '471435', '565603', '872480', '789480', '999942', '-1196225', '268997', '-687986', '1150461', '682458', '617856', '824098', '581943', '132864', '448062', '689161', '800701', '1166643', '947333', '578668', '988505', '1139715', '1029471', '687533', '-524626', '158620', '87795', '423389', '840723', '568529', '332067', '989499', '778237', '650000', '-1100387', '-174946', '757143', '445709', '712961', '-1163797', '569899', '768450', '102685', '795914', '60988', '138230', '671099']\n"
     ]
    }
   ],
   "source": [
    "# open path, place into variable 'csvFile'\n",
    "with open(csvPath) as csvFile:\n",
    "    #run csv read function with open path variable and delimiters defined\n",
    "    csvReader = csv.reader(csvFile,delimiter=\",\")\n",
    "    \n",
    "    # set header text with next function\n",
    "    header = next(csvReader)\n",
    "    print(f'Header = {header}')\n",
    "    \n",
    "    lst_budget_data = []\n",
    "    lst_budget_data_date = []\n",
    "    lst_budget_data_PnL = []\n",
    "    \n",
    "    print(csvReader)\n",
    "    \n",
    "    lst_budget_data = []\n",
    "    dict_budget_data = {}\n",
    "\n",
    "    print(lst_budget_data)\n",
    "    \n",
    "    # create series of data\n",
    "    for row in csvReader:\n",
    "        lst_budget_data_date.append(row[0])\n",
    "        lst_budget_data_PnL.append(row[1])\n",
    "        \n",
    "    \n",
    "print(dict_budget_data)\n",
    "print(lst_budget_data_date)\n",
    "print(lst_budget_data_PnL)"
   ]
  },
  {
   "cell_type": "code",
   "execution_count": 48,
   "metadata": {},
   "outputs": [
    {
     "name": "stdout",
     "output_type": "stream",
     "text": [
      "86\n"
     ]
    }
   ],
   "source": [
    "# for loop list dates and take tally for each additional date\n",
    "for element in lst_budget_data_date:\n",
    "    countMonth = countMonth + 1\n",
    "\n",
    "print(countMonth)"
   ]
  },
  {
   "cell_type": "code",
   "execution_count": 54,
   "metadata": {},
   "outputs": [
    {
     "name": "stdout",
     "output_type": "stream",
     "text": [
      "38382578\n"
     ]
    }
   ],
   "source": [
    "# for loop that lists PnL and sums over time\n",
    "for element in lst_budget_data_PnL:\n",
    "    sumPnL = int(element) + int(sumPnL)\n",
    "    \n",
    "print(sumPnL)"
   ]
  },
  {
   "cell_type": "code",
   "execution_count": 55,
   "metadata": {},
   "outputs": [
    {
     "name": "stdout",
     "output_type": "stream",
     "text": [
      "446309.0465116279\n"
     ]
    }
   ],
   "source": [
    "# take average of previously created PnL list\n",
    "# len gives the length of the list\n",
    "avgPnL = sumPnL / len(lst_budget_data_PnL)\n",
    "\n",
    "print(avgPnL)"
   ]
  },
  {
   "cell_type": "code",
   "execution_count": 64,
   "metadata": {},
   "outputs": [
    {
     "name": "stdout",
     "output_type": "stream",
     "text": [
      "Profit/Losses ['Date']\n"
     ]
    }
   ],
   "source": [
    "# open path, place into variable 'csvFile'\n",
    "with open(csvPath) as csvFile:\n",
    "    #run csv read function with open path variable and delimiters defined\n",
    "    csvReader = csv.reader(csvFile,delimiter=\",\")\n",
    "    \n",
    "    dict_budget_data = {rows[0]:rows[1] for rows in csvReader}\n",
    "    \n",
    "max_value = max(dict_budget_data.values())  # maximum value\n",
    "max_keys = [k for k, v in dict_budget_data.items() if v == max_value] # getting all keys containing the `maximum`\n",
    "\n",
    "print(max_value, max_keys)"
   ]
  },
  {
   "cell_type": "code",
   "execution_count": null,
   "metadata": {},
   "outputs": [],
   "source": []
  }
 ],
 "metadata": {
  "kernelspec": {
   "display_name": "Python 3",
   "language": "python",
   "name": "python3"
  },
  "language_info": {
   "codemirror_mode": {
    "name": "ipython",
    "version": 3
   },
   "file_extension": ".py",
   "mimetype": "text/x-python",
   "name": "python",
   "nbconvert_exporter": "python",
   "pygments_lexer": "ipython3",
   "version": "3.7.4"
  }
 },
 "nbformat": 4,
 "nbformat_minor": 2
}
